{
 "cells": [
  {
   "cell_type": "markdown",
   "metadata": {},
   "source": [
    "## Regular Expressions\n",
    "\n",
    "https://docs.python.org/3/library/re.html"
   ]
  },
  {
   "cell_type": "code",
   "execution_count": 1,
   "metadata": {
    "collapsed": true
   },
   "outputs": [],
   "source": [
    "# reading a text file\n",
    "text_file = open(\"mcdonalds_addresses.txt\")\n",
    "locs = text_file.read()"
   ]
  },
  {
   "cell_type": "code",
   "execution_count": 2,
   "metadata": {},
   "outputs": [
    {
     "name": "stdout",
     "output_type": "stream",
     "text": [
      "Urban Eatery 260 Yonge Street Unit J-002, Toronto, ON, M5B 2L9\n",
      "123 Yonge ST Toronto, ON, M5C 1W4\n",
      "127 Church Street Toronto, M5C 2G5\n",
      "5201 Duke Street Halifax, NS, B3J 1N9\n",
      "5675 Spring Garden Road STE G08\n",
      "895 Rue De La Gauchetiere Ouest Montreal, QC, H3B 4G1\n",
      "77 Bank Street Ottawa, ON, K1P 5N2\n",
      "180 Boul. Maisonneuve Gatineau, QC, J8X 3N5\n",
      "891 Granville St. Vancouver, BC, V6Z 1K7\n",
      "UNIT 5 Waterfront Centre 200 Burrard St. Vancouver, BC, V6C 3K1\n",
      "\n"
     ]
    }
   ],
   "source": [
    "print(locs)"
   ]
  },
  {
   "cell_type": "code",
   "execution_count": 3,
   "metadata": {},
   "outputs": [
    {
     "name": "stdout",
     "output_type": "stream",
     "text": [
      "M5B 2L9\n",
      "M5C 1W4\n",
      "M5C 2G5\n",
      "B3J 1N9\n",
      "STE G08\n",
      "H3B 4G1\n",
      "K1P 5N2\n",
      "J8X 3N5\n",
      "V6Z 1K7\n",
      "V6C 3K1\n"
     ]
    }
   ],
   "source": [
    "# get all pincodes\n",
    "# this is very traditional way, NOT RECOMMENDED. Instead, use Regular Expressions.\n",
    "for a in range(len(locs)-3):\n",
    "    chunk = locs[a:a+7]\n",
    "    if chunk.isupper():\n",
    "        if chunk[3] == ' ':\n",
    "            if ',' not in chunk:\n",
    "                if ' ' not in chunk[0:3]:\n",
    "                    if ' ' not in chunk[4:]:\n",
    "                        print(chunk)\n"
   ]
  },
  {
   "cell_type": "code",
   "execution_count": 4,
   "metadata": {},
   "outputs": [
    {
     "data": {
      "text/plain": [
       "['M5B 2L9',\n",
       " 'M5C 1W4',\n",
       " 'M5C 2G5',\n",
       " 'B3J 1N9',\n",
       " 'STE G08',\n",
       " 'H3B 4G1',\n",
       " 'K1P 5N2',\n",
       " 'J8X 3N5',\n",
       " 'V6Z 1K7',\n",
       " 'V6C 3K1']"
      ]
     },
     "execution_count": 4,
     "metadata": {},
     "output_type": "execute_result"
    }
   ],
   "source": [
    "# using regular expressions to solve above problem\n",
    "# regular expressions are used to define search pattern\n",
    "import re\n",
    "\n",
    "# pass raw search string\n",
    "# creating search pattern\n",
    "regex = re.compile(r'[A-Z0-9]{3} [A-Z0-9]{3}')\n",
    "\n",
    "# applying the pattern\n",
    "regex.findall(locs)"
   ]
  },
  {
   "cell_type": "code",
   "execution_count": 5,
   "metadata": {
    "collapsed": true
   },
   "outputs": [],
   "source": [
    "some_text = \"\"\"The estimated population of state of California is 39.25 million,\n",
    "while that of the state of Texas is 27.86 million.\n",
    "While SanAntonio is in the State of Texas (US),\n",
    "SanDiego, SanJose and SanFranscisco is in the state of California (US).\n",
    "Cities in the US generally have numeric pincodes such as 95002 or 48201.\n",
    "On the other hand, cities in Canada have alpha-numeric zip codes, such as M5B2L9 or Z6Z1K7.\n",
    "\"\"\""
   ]
  },
  {
   "cell_type": "code",
   "execution_count": 6,
   "metadata": {},
   "outputs": [
    {
     "data": {
      "text/plain": [
       "'The estimated population of state of California is 39.25 million,\\nwhile that of the state of Texas is 27.86 million.\\nWhile SanAntonio is in the State of Texas (US),\\nSanDiego, SanJose and SanFranscisco is in the state of California (US).\\nCities in the US generally have numeric pincodes such as 95002 or 48201.\\nOn the other hand, cities in Canada have alpha-numeric zip codes, such as M5B2L9 or Z6Z1K7.\\n'"
      ]
     },
     "execution_count": 6,
     "metadata": {},
     "output_type": "execute_result"
    }
   ],
   "source": [
    "some_text"
   ]
  },
  {
   "cell_type": "code",
   "execution_count": 7,
   "metadata": {},
   "outputs": [
    {
     "data": {
      "text/plain": [
       "<_sre.SRE_Match object; span=(57, 64), match='million'>"
      ]
     },
     "execution_count": 7,
     "metadata": {},
     "output_type": "execute_result"
    }
   ],
   "source": [
    "reg1 = re.compile(r'million')\n",
    "reg1.search(some_text)"
   ]
  },
  {
   "cell_type": "code",
   "execution_count": 8,
   "metadata": {},
   "outputs": [
    {
     "data": {
      "text/plain": [
       "True"
      ]
     },
     "execution_count": 8,
     "metadata": {},
     "output_type": "execute_result"
    }
   ],
   "source": [
    "reg1.search(locs) == None # No match results in None"
   ]
  },
  {
   "cell_type": "code",
   "execution_count": 9,
   "metadata": {},
   "outputs": [
    {
     "data": {
      "text/plain": [
       "['million', 'million']"
      ]
     },
     "execution_count": 9,
     "metadata": {},
     "output_type": "execute_result"
    }
   ],
   "source": [
    "reg1.findall(some_text) # output all search instances in a list"
   ]
  },
  {
   "cell_type": "markdown",
   "metadata": {},
   "source": [
    "#### re - Regular Expression Operations"
   ]
  },
  {
   "cell_type": "code",
   "execution_count": 10,
   "metadata": {},
   "outputs": [
    {
     "data": {
      "text/plain": [
       "<_sre.SRE_Match object; span=(0, 1), match='T'>"
      ]
     },
     "execution_count": 10,
     "metadata": {},
     "output_type": "execute_result"
    }
   ],
   "source": [
    "reg2 = re.compile(r'\\w') # match for any letter, numeric digit or underscore\n",
    "reg2.search(some_text)"
   ]
  },
  {
   "cell_type": "code",
   "execution_count": 11,
   "metadata": {},
   "outputs": [
    {
     "data": {
      "text/plain": [
       "<_sre.SRE_Match object; span=(0, 3), match='The'>"
      ]
     },
     "execution_count": 11,
     "metadata": {},
     "output_type": "execute_result"
    }
   ],
   "source": [
    "reg3 = re.compile(r'\\w\\w\\w') # match for 3 \\w occurring simultaneously\n",
    "reg3.search(some_text)"
   ]
  },
  {
   "cell_type": "code",
   "execution_count": 12,
   "metadata": {},
   "outputs": [
    {
     "data": {
      "text/plain": [
       "<_sre.SRE_Match object; span=(0, 3), match='The'>"
      ]
     },
     "execution_count": 12,
     "metadata": {},
     "output_type": "execute_result"
    }
   ],
   "source": [
    "reg4 = re.compile(r'\\w{3}') # same as above, but in short form\n",
    "reg4.search(some_text)"
   ]
  },
  {
   "cell_type": "code",
   "execution_count": 13,
   "metadata": {},
   "outputs": [
    {
     "data": {
      "text/plain": [
       "<_sre.SRE_Match object; span=(162, 165), match='),\\n'>"
      ]
     },
     "execution_count": 13,
     "metadata": {},
     "output_type": "execute_result"
    }
   ],
   "source": [
    "# It won't match for letter, numeric digit, underscore.\n",
    "reg5 = re.compile(r'\\W{3}') # anything other than \\w, then use capital W.\n",
    "reg5.search(some_text)"
   ]
  },
  {
   "cell_type": "code",
   "execution_count": 14,
   "metadata": {},
   "outputs": [
    {
     "data": {
      "text/plain": [
       "<_sre.SRE_Match object; span=(294, 297), match='950'>"
      ]
     },
     "execution_count": 14,
     "metadata": {},
     "output_type": "execute_result"
    }
   ],
   "source": [
    "reg6 = re.compile(r'\\d{3}') # match for 3 contigous digits\n",
    "reg6.search(some_text)"
   ]
  },
  {
   "cell_type": "code",
   "execution_count": 15,
   "metadata": {},
   "outputs": [
    {
     "data": {
      "text/plain": [
       "<_sre.SRE_Match object; span=(0, 3), match='The'>"
      ]
     },
     "execution_count": 15,
     "metadata": {},
     "output_type": "execute_result"
    }
   ],
   "source": [
    "reg7 = re.compile(r'\\D{3}')\n",
    "reg7.search(some_text) # we're not matching for 3 digits here."
   ]
  },
  {
   "cell_type": "code",
   "execution_count": 16,
   "metadata": {},
   "outputs": [
    {
     "data": {
      "text/plain": [
       "<_sre.SRE_Match object; span=(123, 133), match='SanAntonio'>"
      ]
     },
     "execution_count": 16,
     "metadata": {},
     "output_type": "execute_result"
    }
   ],
   "source": [
    "reg8 = re.compile(r'San(Antonio|Diego)') # either-or search. In this example, it looks for SanAntonio or SanDiego\n",
    "reg8.search(some_text)"
   ]
  },
  {
   "cell_type": "code",
   "execution_count": 17,
   "metadata": {},
   "outputs": [
    {
     "data": {
      "text/plain": [
       "['Antonio', 'Diego']"
      ]
     },
     "execution_count": 17,
     "metadata": {},
     "output_type": "execute_result"
    }
   ],
   "source": [
    "reg8.findall(some_text)"
   ]
  },
  {
   "cell_type": "markdown",
   "metadata": {},
   "source": [
    "#### ? - matches the preceding group 0 or 1 times"
   ]
  },
  {
   "cell_type": "code",
   "execution_count": 18,
   "metadata": {},
   "outputs": [
    {
     "data": {
      "text/plain": [
       "['ab', '', '', 'ab', '', 'ab', '', 'ab', '']"
      ]
     },
     "execution_count": 18,
     "metadata": {},
     "output_type": "execute_result"
    }
   ],
   "source": [
    "reg9 = re.compile(r'(ab)?')\n",
    "reg9.findall(\"abaaabbabaab\")"
   ]
  },
  {
   "cell_type": "markdown",
   "metadata": {},
   "source": [
    "#### * - matches the preceding group 0 or more times"
   ]
  },
  {
   "cell_type": "code",
   "execution_count": 19,
   "metadata": {},
   "outputs": [
    {
     "data": {
      "text/plain": [
       "['ab', '', '', 'ab', '', 'ab', '', 'ab', '']"
      ]
     },
     "execution_count": 19,
     "metadata": {},
     "output_type": "execute_result"
    }
   ],
   "source": [
    "reg11 = re.compile(r'(ab)*')\n",
    "reg11.findall(\"abaaabbabaabab\")"
   ]
  },
  {
   "cell_type": "code",
   "execution_count": 20,
   "metadata": {},
   "outputs": [
    {
     "data": {
      "text/plain": [
       "['ab']"
      ]
     },
     "execution_count": 20,
     "metadata": {},
     "output_type": "execute_result"
    }
   ],
   "source": [
    "reg12 = re.compile(r'(ab){2}')\n",
    "reg12.findall(\"abaaabbabaabab\") # matches the group exactly 2 times"
   ]
  },
  {
   "cell_type": "code",
   "execution_count": 21,
   "metadata": {},
   "outputs": [
    {
     "data": {
      "text/plain": [
       "['San', 'San', 'San', 'San']"
      ]
     },
     "execution_count": 21,
     "metadata": {},
     "output_type": "execute_result"
    }
   ],
   "source": [
    "reg13 = re.compile(r'(San)+')\n",
    "reg13.findall(some_text)"
   ]
  },
  {
   "cell_type": "code",
   "execution_count": 22,
   "metadata": {},
   "outputs": [
    {
     "data": {
      "text/plain": [
       "['SanAntonio', 'SanDiego', 'SanJose', 'SanFranscisco']"
      ]
     },
     "execution_count": 22,
     "metadata": {},
     "output_type": "execute_result"
    }
   ],
   "source": [
    "reg13 = re.compile(r'(San\\w+)') # to get the complete word for the match\n",
    "reg13.findall(some_text)"
   ]
  },
  {
   "cell_type": "markdown",
   "metadata": {},
   "source": [
    "#### Customized Character Classes"
   ]
  },
  {
   "cell_type": "code",
   "execution_count": 23,
   "metadata": {},
   "outputs": [
    {
     "data": {
      "text/plain": [
       "['io', 'ia', 'io', 'io', 'io', 'ie', 'ia', 'ie', 'ie']"
      ]
     },
     "execution_count": 23,
     "metadata": {},
     "output_type": "execute_result"
    }
   ],
   "source": [
    "reg14 = re.compile(r'[aeiou]{2}') # Matches each combination of 2 characters in the list\n",
    "reg14.findall(some_text)"
   ]
  },
  {
   "cell_type": "markdown",
   "metadata": {},
   "source": [
    "#### Pattern matching in beginning of String"
   ]
  },
  {
   "cell_type": "code",
   "execution_count": 24,
   "metadata": {},
   "outputs": [
    {
     "data": {
      "text/plain": [
       "['Hello']"
      ]
     },
     "execution_count": 24,
     "metadata": {},
     "output_type": "execute_result"
    }
   ],
   "source": [
    "reg15 = re.compile(r'^Hello') # String should start with word 'Hello'\n",
    "reg15.findall('Hello World!')"
   ]
  },
  {
   "cell_type": "code",
   "execution_count": 25,
   "metadata": {},
   "outputs": [
    {
     "data": {
      "text/plain": [
       "[]"
      ]
     },
     "execution_count": 25,
     "metadata": {},
     "output_type": "execute_result"
    }
   ],
   "source": [
    "reg15.findall('Say Hello to him')"
   ]
  },
  {
   "cell_type": "markdown",
   "metadata": {},
   "source": [
    "#### Pattern matching in the end of the String"
   ]
  },
  {
   "cell_type": "code",
   "execution_count": 26,
   "metadata": {},
   "outputs": [
    {
     "data": {
      "text/plain": [
       "['World']"
      ]
     },
     "execution_count": 26,
     "metadata": {},
     "output_type": "execute_result"
    }
   ],
   "source": [
    "reg16 = re.compile(r'World$') # string should end with the word 'World\n",
    "reg16.findall('Hello World')"
   ]
  },
  {
   "cell_type": "code",
   "execution_count": 27,
   "metadata": {},
   "outputs": [
    {
     "data": {
      "text/plain": [
       "[]"
      ]
     },
     "execution_count": 27,
     "metadata": {},
     "output_type": "execute_result"
    }
   ],
   "source": [
    "reg16.findall('The world is flat')"
   ]
  },
  {
   "cell_type": "code",
   "execution_count": 28,
   "metadata": {},
   "outputs": [
    {
     "data": {
      "text/plain": [
       "['21']"
      ]
     },
     "execution_count": 28,
     "metadata": {},
     "output_type": "execute_result"
    }
   ],
   "source": [
    "reg17 = re.compile(r'^\\d+$') # string should start and end with a digit; should not have any character between\n",
    "reg17.findall('21')"
   ]
  },
  {
   "cell_type": "code",
   "execution_count": 29,
   "metadata": {},
   "outputs": [
    {
     "data": {
      "text/plain": [
       "[]"
      ]
     },
     "execution_count": 29,
     "metadata": {},
     "output_type": "execute_result"
    }
   ],
   "source": [
    "reg17.findall('21 years old')"
   ]
  },
  {
   "cell_type": "markdown",
   "metadata": {},
   "source": [
    "#### . - Wildcard Character"
   ]
  },
  {
   "cell_type": "code",
   "execution_count": 30,
   "metadata": {},
   "outputs": [
    {
     "data": {
      "text/plain": [
       "['hing', 'cing', 'ying']"
      ]
     },
     "execution_count": 30,
     "metadata": {},
     "output_type": "execute_result"
    }
   ],
   "source": [
    "reg18 = re.compile(r'.ing') # match anything ending with ing\n",
    "reg18.findall('She was laughing, dancing, playing')"
   ]
  },
  {
   "cell_type": "markdown",
   "metadata": {},
   "source": [
    "#### String Substitution"
   ]
  },
  {
   "cell_type": "code",
   "execution_count": 31,
   "metadata": {},
   "outputs": [
    {
     "data": {
      "text/plain": [
       "['Street 31', 'Street 22']"
      ]
     },
     "execution_count": 31,
     "metadata": {},
     "output_type": "execute_result"
    }
   ],
   "source": [
    "reg19 = re.compile(r'Street \\d+')\n",
    "reg19.findall('Street 31 is close to Street 22')"
   ]
  },
  {
   "cell_type": "code",
   "execution_count": 32,
   "metadata": {},
   "outputs": [
    {
     "data": {
      "text/plain": [
       "'Street ***** is close to Street *****'"
      ]
     },
     "execution_count": 32,
     "metadata": {},
     "output_type": "execute_result"
    }
   ],
   "source": [
    "reg19.sub(r'Street *****', 'Street 31 is close to Street 22')"
   ]
  }
 ],
 "metadata": {
  "kernelspec": {
   "display_name": "Python 3",
   "language": "python",
   "name": "python3"
  },
  "language_info": {
   "codemirror_mode": {
    "name": "ipython",
    "version": 3
   },
   "file_extension": ".py",
   "mimetype": "text/x-python",
   "name": "python",
   "nbconvert_exporter": "python",
   "pygments_lexer": "ipython3",
   "version": "3.6.3"
  }
 },
 "nbformat": 4,
 "nbformat_minor": 2
}
