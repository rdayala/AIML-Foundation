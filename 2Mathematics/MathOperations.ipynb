{
 "cells": [
  {
   "cell_type": "markdown",
   "metadata": {},
   "source": [
    "## References :\n",
    "\n",
    "https://www.python-course.eu/numpy.php"
   ]
  },
  {
   "cell_type": "code",
   "execution_count": 1,
   "metadata": {
    "collapsed": true
   },
   "outputs": [],
   "source": [
    "import numpy as np"
   ]
  },
  {
   "cell_type": "markdown",
   "metadata": {},
   "source": [
    "We have a list with values, e.g. temperatures in Celsius:\n",
    "\n",
    "    cvalues = [20.1, 20.8, 21.9, 22.5, 22.7, 22.3, 21.8, 21.2, 20.9, 20.1]\n",
    "\n",
    "We will turn our list \"cvalues\" into a one-dimensional numpy array:"
   ]
  },
  {
   "cell_type": "code",
   "execution_count": 10,
   "metadata": {},
   "outputs": [
    {
     "name": "stdout",
     "output_type": "stream",
     "text": [
      "[ 20.1  20.8  21.9  22.5  22.7  22.3  21.8  21.2  20.9  20.1]\n"
     ]
    }
   ],
   "source": [
    "cvalues = [20.1, 20.8, 21.9, 22.5, 22.7, 22.3, 21.8, 21.2, 20.9, 20.1]\n",
    "C = np.array(cvalues)\n",
    "print(C)"
   ]
  },
  {
   "cell_type": "markdown",
   "metadata": {},
   "source": [
    "Let's assume, we want to turn the values into degrees Fahrenheit. This is very easy to accomplish with a numpy array. The solution to our problem can be achieved by simple scalar multiplication:"
   ]
  },
  {
   "cell_type": "code",
   "execution_count": 14,
   "metadata": {},
   "outputs": [
    {
     "name": "stdout",
     "output_type": "stream",
     "text": [
      "[ 68.18  69.44  71.42  72.5   72.86  72.14  71.24  70.16  69.62  68.18]\n"
     ]
    }
   ],
   "source": [
    "# Celsius to Fahrenheit conversion\n",
    "F = C * 9 / 5 + 32\n",
    "print(F)"
   ]
  },
  {
   "cell_type": "markdown",
   "metadata": {},
   "source": [
    "The array C has not been changed by this expression:"
   ]
  },
  {
   "cell_type": "code",
   "execution_count": 15,
   "metadata": {},
   "outputs": [
    {
     "name": "stdout",
     "output_type": "stream",
     "text": [
      "[ 20.1  20.8  21.9  22.5  22.7  22.3  21.8  21.2  20.9  20.1]\n"
     ]
    }
   ],
   "source": [
    "print(C)"
   ]
  },
  {
   "cell_type": "markdown",
   "metadata": {},
   "source": [
    "So far, we referred to C as an array. The internal type is \"ndarray\" or to be even more precise \"C is an instance of the class numpy.ndarray\":"
   ]
  },
  {
   "cell_type": "code",
   "execution_count": 17,
   "metadata": {},
   "outputs": [
    {
     "data": {
      "text/plain": [
       "numpy.ndarray"
      ]
     },
     "execution_count": 17,
     "metadata": {},
     "output_type": "execute_result"
    }
   ],
   "source": [
    "type(C)"
   ]
  },
  {
   "cell_type": "markdown",
   "metadata": {},
   "source": [
    "### Graphical Representation of the Values\n",
    "\n",
    "The function plot() uses the values of the array C/F for the values of the ordinate, i.e. the y-axis. The indices of the array C/F are taken as values for the abscissa, i.e. the x-axis."
   ]
  },
  {
   "cell_type": "code",
   "execution_count": 20,
   "metadata": {},
   "outputs": [
    {
     "name": "stdout",
     "output_type": "stream",
     "text": [
      "[ 20.1  20.8  21.9  22.5  22.7  22.3  21.8  21.2  20.9  20.1]\n",
      "[ 68.18  69.44  71.42  72.5   72.86  72.14  71.24  70.16  69.62  68.18]\n"
     ]
    },
    {
     "data": {
      "image/png": "[encoded data removed]",
      "text/plain": [
       "<matplotlib.figure.Figure at 0x15705995be0>"
      ]
     },
     "metadata": {},
     "output_type": "display_data"
    }
   ],
   "source": [
    "import matplotlib.pyplot as plt\n",
    "%matplotlib inline\n",
    "\n",
    "print(C)\n",
    "print(F)\n",
    "\n",
    "plt.plot(C)\n",
    "plt.plot(F)\n",
    "plt.show()"
   ]
  },
  {
   "cell_type": "markdown",
   "metadata": {},
   "source": [
    "### Numpy Arrays\n",
    "* numpy arrays are containers of items of the same type\n",
    "* The homogenous type of the array can be determined with the attribute \"dtype\"\n",
    "\n",
    "### arange\n",
    "The syntax of arange:\n",
    "\n",
    "        arange([start,] stop[, step], [, dtype=None])\n",
    "\n",
    "* __arange()__ returns evenly spaced values within a given interval. The values are generated within the half-open interval __'[start, stop)'__ If the function is used with integers, it is nearly equivalent to the Python built-in function __range()__, but __arange returns an ndarray rather than a list iterator as range does__."
   ]
  },
  {
   "cell_type": "code",
   "execution_count": 32,
   "metadata": {},
   "outputs": [
    {
     "name": "stdout",
     "output_type": "stream",
     "text": [
      "[1 2 3 4 5 6 7 8 9]\n",
      "<class 'numpy.ndarray'>\n",
      "range(1, 10)\n",
      "<class 'range'>\n",
      "[1, 2, 3, 4, 5, 6, 7, 8, 9]\n",
      "[  0.   1.   2.   3.   4.   5.   6.   7.   8.   9.  10.]\n",
      "[  0.5   1.3   2.1   2.9   3.7   4.5   5.3   6.1   6.9   7.7   8.5   9.3\n",
      "  10.1]\n",
      "[ 0  1  2  3  4  5  6  7  8  9 10 11 12]\n"
     ]
    }
   ],
   "source": [
    "a = np.arange(1, 10)\n",
    "print(a)\n",
    "print(type(a))\n",
    "\n",
    "x = range(1, 10)\n",
    "print(x)    # x is an iterator\n",
    "print(type(x))\n",
    "\n",
    "print(list(x))\n",
    "\n",
    "# further arange examples:\n",
    "x = np.arange(10.4)\n",
    "print(x)\n",
    "x = np.arange(0.5, 10.4, 0.8)\n",
    "print(x)\n",
    "x = np.arange(0.5, 10.4, 0.8, int)\n",
    "print(x)"
   ]
  },
  {
   "cell_type": "markdown",
   "metadata": {},
   "source": [
    "### linspace\n",
    "The syntax of linspace:\n",
    "\n",
    "    linspace(start, stop, num=50, endpoint=True, retstep=False)\n",
    "* linspace returns an ndarray, consisting of 'num' equally spaced samples"
   ]
  },
  {
   "cell_type": "code",
   "execution_count": 37,
   "metadata": {},
   "outputs": [
    {
     "name": "stdout",
     "output_type": "stream",
     "text": [
      "[  1.   2.   3.   4.   5.   6.   7.   8.   9.  10.]\n",
      "[  1.           1.18367347   1.36734694   1.55102041   1.73469388\n",
      "   1.91836735   2.10204082   2.28571429   2.46938776   2.65306122\n",
      "   2.83673469   3.02040816   3.20408163   3.3877551    3.57142857\n",
      "   3.75510204   3.93877551   4.12244898   4.30612245   4.48979592\n",
      "   4.67346939   4.85714286   5.04081633   5.2244898    5.40816327\n",
      "   5.59183673   5.7755102    5.95918367   6.14285714   6.32653061\n",
      "   6.51020408   6.69387755   6.87755102   7.06122449   7.24489796\n",
      "   7.42857143   7.6122449    7.79591837   7.97959184   8.16326531\n",
      "   8.34693878   8.53061224   8.71428571   8.89795918   9.08163265\n",
      "   9.26530612   9.44897959   9.63265306   9.81632653  10.        ]\n",
      "[ 1.          2.28571429  3.57142857  4.85714286  6.14285714  7.42857143\n",
      "  8.71428571]\n"
     ]
    }
   ],
   "source": [
    "# 10 values between 1 and 10:\n",
    "print(np.linspace(1, 10, num=10))\n",
    "\n",
    "# 50 values between 1 and 10:\n",
    "print(np.linspace(1, 10, 50))\n",
    "\n",
    "# excluding the endpoint:\n",
    "print(np.linspace(1, 10, 7, endpoint=False))"
   ]
  },
  {
   "cell_type": "markdown",
   "metadata": {},
   "source": [
    "#### Zero-dimensional Arrays in Numpy - nothing but Scalars\n",
    "\n",
    "Scalars are zero dimensional. In the following example, we will create the scalar 42."
   ]
  },
  {
   "cell_type": "code",
   "execution_count": 38,
   "metadata": {},
   "outputs": [
    {
     "name": "stdout",
     "output_type": "stream",
     "text": [
      "x:  42\n",
      "The type of x:  <class 'numpy.ndarray'>\n",
      "The dimension of x: 0\n"
     ]
    }
   ],
   "source": [
    "x = np.array(42)\n",
    "print(\"x: \", x)\n",
    "print(\"The type of x: \", type(x))\n",
    "print(\"The dimension of x:\", np.ndim(x))"
   ]
  },
  {
   "cell_type": "markdown",
   "metadata": {},
   "source": [
    "### One-dimensional Arrays - Vectors"
   ]
  },
  {
   "cell_type": "code",
   "execution_count": 40,
   "metadata": {},
   "outputs": [
    {
     "name": "stdout",
     "output_type": "stream",
     "text": [
      "F:  [ 1  1  2  3  5  8 13 21]\n",
      "V:  [  3.4   6.9  99.8  12.8]\n",
      "Type of F:  int32\n",
      "Type of V:  float64\n",
      "Dimension of F:  1\n",
      "Dimension of V:  1\n"
     ]
    }
   ],
   "source": [
    "F = np.array([1, 1, 2, 3, 5, 8, 13, 21])\n",
    "V = np.array([3.4, 6.9, 99.8, 12.8])\n",
    "print(\"F: \", F)\n",
    "print(\"V: \", V)\n",
    "print(\"Type of F: \", F.dtype)\n",
    "print(\"Type of V: \", V.dtype)\n",
    "print(\"Dimension of F: \", np.ndim(F))\n",
    "print(\"Dimension of V: \", np.ndim(V))"
   ]
  },
  {
   "cell_type": "markdown",
   "metadata": {},
   "source": [
    "### Two-dimensional Arrays - Matrices\n",
    "* We can create them by passing nested lists to the array method of numpy."
   ]
  },
  {
   "cell_type": "code",
   "execution_count": 46,
   "metadata": {},
   "outputs": [
    {
     "name": "stdout",
     "output_type": "stream",
     "text": [
      "[[  3.4   8.7   9.9]\n",
      " [  1.1  -7.8  -0.7]\n",
      " [  4.1  12.3   4.8]]\n",
      "2\n"
     ]
    }
   ],
   "source": [
    "# 2-D array\n",
    "\n",
    "A = np.array([ [3.4, 8.7, 9.9], \n",
    "               [1.1, -7.8, -0.7],\n",
    "               [4.1, 12.3, 4.8]])\n",
    "print(A)\n",
    "print(A.ndim)"
   ]
  },
  {
   "cell_type": "markdown",
   "metadata": {},
   "source": [
    "### n-Dimensional Arrays"
   ]
  },
  {
   "cell_type": "code",
   "execution_count": 44,
   "metadata": {},
   "outputs": [
    {
     "name": "stdout",
     "output_type": "stream",
     "text": [
      "[[[111 112]\n",
      "  [121 122]]\n",
      "\n",
      " [[211 212]\n",
      "  [221 222]]\n",
      "\n",
      " [[311 312]\n",
      "  [321 322]]]\n",
      "3\n"
     ]
    }
   ],
   "source": [
    "# 3-D array\n",
    "B = np.array([ [[111, 112], [121, 122]],\n",
    "               [[211, 212], [221, 222]],\n",
    "               [[311, 312], [321, 322]] ])\n",
    "print(B)\n",
    "print(B.ndim)"
   ]
  },
  {
   "cell_type": "markdown",
   "metadata": {},
   "source": [
    "### Shape of an Array : for 2-D array (i.e matrix), it is Order of matrix"
   ]
  },
  {
   "cell_type": "code",
   "execution_count": 54,
   "metadata": {},
   "outputs": [
    {
     "name": "stdout",
     "output_type": "stream",
     "text": [
      "2\n",
      "[[67 63 87]\n",
      " [77 69 59]\n",
      " [85 87 99]\n",
      " [79 72 71]\n",
      " [63 89 93]\n",
      " [68 92 78]]\n",
      "(6, 3)\n",
      "6\n"
     ]
    }
   ],
   "source": [
    "x = np.array([ [67, 63, 87],\n",
    "               [77, 69, 59],\n",
    "               [85, 87, 99],\n",
    "               [79, 72, 71],\n",
    "               [63, 89, 93],\n",
    "               [68, 92, 78]])\n",
    "print(x.ndim)\n",
    "# print(np.shape(x))\n",
    "print(x)\n",
    "print(x.shape)\n",
    "print(np.shape(x)[0])"
   ]
  },
  {
   "cell_type": "code",
   "execution_count": 61,
   "metadata": {},
   "outputs": [
    {
     "name": "stdout",
     "output_type": "stream",
     "text": [
      "[[67 63 87 77 69 59]\n",
      " [85 87 99 79 72 71]\n",
      " [63 89 93 68 92 78]]\n"
     ]
    }
   ],
   "source": [
    "# the original array shape won't change\n",
    "print(x.reshape(3, 6))"
   ]
  },
  {
   "cell_type": "code",
   "execution_count": 62,
   "metadata": {},
   "outputs": [
    {
     "name": "stdout",
     "output_type": "stream",
     "text": [
      "[[67 63 87 77 69 59 85 87 99]\n",
      " [79 72 71 63 89 93 68 92 78]]\n"
     ]
    }
   ],
   "source": [
    "# this way , the oringal array shape gets changed\n",
    "x.shape = (2, 9)\n",
    "print(x)"
   ]
  },
  {
   "cell_type": "code",
   "execution_count": 64,
   "metadata": {},
   "outputs": [
    {
     "name": "stdout",
     "output_type": "stream",
     "text": [
      "(4, 2, 3)\n"
     ]
    }
   ],
   "source": [
    "# 3- D array\n",
    "B = np.array([ [[111, 112, 113], [121, 122, 123]],\n",
    "               [[211, 212, 213], [221, 222, 223]],\n",
    "               [[311, 312, 313], [321, 322, 323]],\n",
    "               [[411, 412, 413], [421, 422, 423]] ])\n",
    "print(B.shape)"
   ]
  },
  {
   "cell_type": "markdown",
   "metadata": {},
   "source": [
    "### Indexing and Slicing"
   ]
  },
  {
   "cell_type": "code",
   "execution_count": 66,
   "metadata": {},
   "outputs": [
    {
     "name": "stdout",
     "output_type": "stream",
     "text": [
      "1\n",
      "21\n"
     ]
    }
   ],
   "source": [
    "F = np.array([1, 1, 2, 3, 5, 8, 13, 21])\n",
    "# print the first element of F\n",
    "print(F[0])\n",
    "\n",
    "# print the last element of F\n",
    "print(F[-1])"
   ]
  },
  {
   "cell_type": "code",
   "execution_count": 69,
   "metadata": {},
   "outputs": [
    {
     "name": "stdout",
     "output_type": "stream",
     "text": [
      "1.1\n",
      "1.1\n"
     ]
    }
   ],
   "source": [
    "# indexing multi-dimensional array\n",
    "A = np.array([ [3.4, 8.7, 9.9], \n",
    "               [1.1, -7.8, -0.7],\n",
    "               [4.1, 12.3, 4.8]])\n",
    "print(A[1][0])\n",
    "# alternate way of accessing multi-dimensional array\n",
    "print(A[1,0])"
   ]
  },
  {
   "cell_type": "markdown",
   "metadata": {},
   "source": [
    "### Slicing - view of the array. Any modifications on the view will have effect on the original array.\n",
    "\n",
    "    A[start:stop:step]\n",
    "* Slicing operation on an array creates a view on the original array. So we get an another possibility to access the array, or better a part of the array. From this follows that if we modify a view, the original array will be modified as well.\n",
    "    \n",
    "* For multi-dimensional slicing, the ranges for each dimension are separated by commas   "
   ]
  },
  {
   "cell_type": "code",
   "execution_count": 71,
   "metadata": {},
   "outputs": [
    {
     "name": "stdout",
     "output_type": "stream",
     "text": [
      "[2 3 4]\n",
      "[0 1 2 3]\n",
      "[6 7 8 9]\n",
      "[0 1 2 3 4 5 6 7 8 9]\n"
     ]
    }
   ],
   "source": [
    "# 1-D slicing\n",
    "S = np.array([0, 1, 2, 3, 4, 5, 6, 7, 8, 9])\n",
    "print(S[2:5])\n",
    "print(S[:4])\n",
    "print(S[6:])\n",
    "print(S[:])"
   ]
  },
  {
   "cell_type": "code",
   "execution_count": 73,
   "metadata": {},
   "outputs": [
    {
     "name": "stdout",
     "output_type": "stream",
     "text": [
      "[[13 14 15]\n",
      " [23 24 25]\n",
      " [33 34 35]]\n"
     ]
    }
   ],
   "source": [
    "# multi-dimensional slicing\n",
    "A = np.array([\n",
    "[11, 12, 13, 14, 15],\n",
    "[21, 22, 23, 24, 25],\n",
    "[31, 32, 33, 34, 35],\n",
    "[41, 42, 43, 44, 45],\n",
    "[51, 52, 53, 54, 55]])\n",
    "print(A[:3, 2:])"
   ]
  },
  {
   "cell_type": "code",
   "execution_count": 74,
   "metadata": {},
   "outputs": [
    {
     "name": "stdout",
     "output_type": "stream",
     "text": [
      "[[41 42 43 44 45]\n",
      " [51 52 53 54 55]]\n"
     ]
    }
   ],
   "source": [
    "print(A[3:, :])"
   ]
  },
  {
   "cell_type": "code",
   "execution_count": 75,
   "metadata": {},
   "outputs": [
    {
     "name": "stdout",
     "output_type": "stream",
     "text": [
      "[[15]\n",
      " [25]\n",
      " [35]\n",
      " [45]\n",
      " [55]]\n"
     ]
    }
   ],
   "source": [
    "print(A[:, 4:])"
   ]
  },
  {
   "cell_type": "code",
   "execution_count": 77,
   "metadata": {},
   "outputs": [
    {
     "name": "stdout",
     "output_type": "stream",
     "text": [
      "[[ 0  1  2  3  4  5  6]\n",
      " [ 7  8  9 10 11 12 13]\n",
      " [14 15 16 17 18 19 20]\n",
      " [21 22 23 24 25 26 27]]\n"
     ]
    }
   ],
   "source": [
    "# using \"step\" parameter while slicing\n",
    "X = np.arange(28).reshape(4, 7)\n",
    "print(X)"
   ]
  },
  {
   "cell_type": "code",
   "execution_count": 78,
   "metadata": {},
   "outputs": [
    {
     "name": "stdout",
     "output_type": "stream",
     "text": [
      "[[ 0  3  6]\n",
      " [14 17 20]]\n"
     ]
    }
   ],
   "source": [
    "# alternate on row wise, select in step count 3 in column wise\n",
    "print(X[::2, ::3])"
   ]
  },
  {
   "cell_type": "code",
   "execution_count": 79,
   "metadata": {},
   "outputs": [
    {
     "name": "stdout",
     "output_type": "stream",
     "text": [
      "[[ 0  3  6]\n",
      " [ 7 10 13]\n",
      " [14 17 20]\n",
      " [21 24 27]]\n"
     ]
    }
   ],
   "source": [
    "print(X[::, ::3])"
   ]
  },
  {
   "cell_type": "markdown",
   "metadata": {},
   "source": [
    "### Arrays of Ones and of Zeros"
   ]
  },
  {
   "cell_type": "code",
   "execution_count": 95,
   "metadata": {},
   "outputs": [
    {
     "name": "stdout",
     "output_type": "stream",
     "text": [
      "[[1 1 1 1]\n",
      " [1 1 1 1]\n",
      " [1 1 1 1]]\n"
     ]
    }
   ],
   "source": [
    "F = np.ones((3,4),dtype=int)\n",
    "print(F)"
   ]
  },
  {
   "cell_type": "code",
   "execution_count": 96,
   "metadata": {},
   "outputs": [
    {
     "name": "stdout",
     "output_type": "stream",
     "text": [
      "[[ 0.  0.  0.  0.]\n",
      " [ 0.  0.  0.  0.]]\n"
     ]
    }
   ],
   "source": [
    "Z = np.zeros((2,4))\n",
    "print(Z)"
   ]
  },
  {
   "cell_type": "code",
   "execution_count": 98,
   "metadata": {},
   "outputs": [
    {
     "name": "stdout",
     "output_type": "stream",
     "text": [
      "[[0 0 0 0]\n",
      " [0 0 0 0]]\n"
     ]
    }
   ],
   "source": [
    "Z = np.zeros((2,4), dtype=int)\n",
    "print(Z)"
   ]
  },
  {
   "cell_type": "markdown",
   "metadata": {},
   "source": [
    "There is another interesting way to create an array with Ones or with Zeros, if it has to have the same shape as another existing array 'a'. Numpy supplies for this purpose the methods ones_like(a) and zeros_like(a)."
   ]
  },
  {
   "cell_type": "code",
   "execution_count": 99,
   "metadata": {},
   "outputs": [
    {
     "name": "stdout",
     "output_type": "stream",
     "text": [
      "[1 1 1 1 1]\n",
      "[0 0 0 0 0]\n"
     ]
    }
   ],
   "source": [
    "x = np.array([2,5,18,14,4])\n",
    "E = np.ones_like(x)\n",
    "print(E)\n",
    "Z = np.zeros_like(x)\n",
    "print(Z)"
   ]
  },
  {
   "cell_type": "markdown",
   "metadata": {},
   "source": [
    "### Identity Array\n",
    "\n",
    "* An identity array is a square array with __ones on its main diagonal__."
   ]
  },
  {
   "cell_type": "code",
   "execution_count": 103,
   "metadata": {},
   "outputs": [
    {
     "data": {
      "text/plain": [
       "array([[ 1.,  0.,  0.,  0.],\n",
       "       [ 0.,  1.,  0.,  0.],\n",
       "       [ 0.,  0.,  1.,  0.],\n",
       "       [ 0.,  0.,  0.,  1.]])"
      ]
     },
     "execution_count": 103,
     "metadata": {},
     "output_type": "execute_result"
    }
   ],
   "source": [
    "# The output of identity is an 'n' x 'n' array with its main diagonal set to one, and all other elements are 0.\n",
    "np.identity(4)"
   ]
  },
  {
   "cell_type": "code",
   "execution_count": 104,
   "metadata": {},
   "outputs": [
    {
     "data": {
      "text/plain": [
       "array([[1, 0, 0, 0],\n",
       "       [0, 1, 0, 0],\n",
       "       [0, 0, 1, 0],\n",
       "       [0, 0, 0, 1]])"
      ]
     },
     "execution_count": 104,
     "metadata": {},
     "output_type": "execute_result"
    }
   ],
   "source": [
    "np.identity(4, int)"
   ]
  },
  {
   "cell_type": "markdown",
   "metadata": {},
   "source": [
    "### The eye function\n",
    "\n",
    "    eye(N, M=None, k=0, dtype=float)\n",
    "\n",
    "* N - An integer number defining the rows of the output array.\n",
    "* M - An optional integer for setting the number of columns in the output. If it is None, it defaults to 'N'.\n",
    "* k - Defining the position of the diagonal. The default is 0. 0 refers to the main diagonal. A positive value refers to an upper diagonal, and a negative value to a lower diagonal.\n",
    "* dtype - Optional data-type of the returned array."
   ]
  },
  {
   "cell_type": "code",
   "execution_count": 106,
   "metadata": {},
   "outputs": [
    {
     "data": {
      "text/plain": [
       "array([[0, 1, 0, 0, 0, 0, 0, 0],\n",
       "       [0, 0, 1, 0, 0, 0, 0, 0],\n",
       "       [0, 0, 0, 1, 0, 0, 0, 0],\n",
       "       [0, 0, 0, 0, 1, 0, 0, 0],\n",
       "       [0, 0, 0, 0, 0, 1, 0, 0]])"
      ]
     },
     "execution_count": 106,
     "metadata": {},
     "output_type": "execute_result"
    }
   ],
   "source": [
    "# the diagonal starts at column 1.\n",
    "np.eye(5, 8, k=1, dtype=int)"
   ]
  },
  {
   "cell_type": "markdown",
   "metadata": {},
   "source": [
    "# Vectors\n",
    "\n",
    "* http://matthiaseisen.com/pp/tag/linear-algebra/\n",
    "\n",
    "### Creating a Vector in Python"
   ]
  },
  {
   "cell_type": "code",
   "execution_count": 108,
   "metadata": {},
   "outputs": [
    {
     "name": "stdout",
     "output_type": "stream",
     "text": [
      "[1 2 3]\n",
      "[4 5 6]\n",
      "[7 8 9]\n"
     ]
    }
   ],
   "source": [
    "A = np.array([1, 2, 3])\n",
    "B = np.array([4, 5, 6])\n",
    "X = np.arange(7, 10)\n",
    "print(A)\n",
    "print(B)\n",
    "print(X)"
   ]
  },
  {
   "cell_type": "code",
   "execution_count": 82,
   "metadata": {},
   "outputs": [
    {
     "name": "stdout",
     "output_type": "stream",
     "text": [
      "[5 7 9]\n"
     ]
    }
   ],
   "source": [
    "C = A + B\n",
    "print(C)"
   ]
  },
  {
   "cell_type": "markdown",
   "metadata": {},
   "source": [
    "### Length of Vector / Norm"
   ]
  },
  {
   "cell_type": "code",
   "execution_count": 111,
   "metadata": {},
   "outputs": [
    {
     "name": "stdout",
     "output_type": "stream",
     "text": [
      "[3 4]\n"
     ]
    }
   ],
   "source": [
    "A = np.array([3, 4])\n",
    "print(A)"
   ]
  },
  {
   "cell_type": "code",
   "execution_count": 113,
   "metadata": {},
   "outputs": [
    {
     "name": "stdout",
     "output_type": "stream",
     "text": [
      "5.0\n"
     ]
    }
   ],
   "source": [
    "# length of vector or Norm : default - it returns L2 Norm for a Vector ||A||\n",
    "ANorm = np.linalg.norm(A)\n",
    "print(ANorm)"
   ]
  },
  {
   "cell_type": "code",
   "execution_count": 115,
   "metadata": {},
   "outputs": [
    {
     "name": "stdout",
     "output_type": "stream",
     "text": [
      "[ 0.6  0.8]\n"
     ]
    }
   ],
   "source": [
    "# Univt vector of A = A / ||A||\n",
    "AUnit = A/ANorm\n",
    "print(AUnit)"
   ]
  },
  {
   "cell_type": "markdown",
   "metadata": {},
   "source": [
    "### Dot product of two vectors / Also called Inner product\n",
    "* Dot product intuitively mean projection of one vector over the other"
   ]
  },
  {
   "cell_type": "code",
   "execution_count": 141,
   "metadata": {},
   "outputs": [
    {
     "name": "stdout",
     "output_type": "stream",
     "text": [
      "32\n"
     ]
    }
   ],
   "source": [
    "# dot product of 2 vectors\n",
    "v1 = np.array([1,2,3])\n",
    "v2 = np.array([4,5,6])\n",
    "\n",
    "p = np.dot(v1, v2)\n",
    "print(p)"
   ]
  },
  {
   "cell_type": "markdown",
   "metadata": {},
   "source": [
    "### Outer product of two vectors"
   ]
  },
  {
   "cell_type": "code",
   "execution_count": 142,
   "metadata": {},
   "outputs": [
    {
     "name": "stdout",
     "output_type": "stream",
     "text": [
      "[[ 8 10 12]\n",
      " [12 15 18]]\n"
     ]
    }
   ],
   "source": [
    "# outer product of 2 vectors\n",
    "# in case of outer product, we transpose the 2nd vector and does the matrix multiplication\n",
    "v1 = np.array([2,3])\n",
    "v2 = np.array([4,5,6])\n",
    "\n",
    "p = np.outer(v1, v2)\n",
    "print(p)"
   ]
  },
  {
   "cell_type": "markdown",
   "metadata": {},
   "source": [
    "### Cross product of two vectors\n",
    "* the dimension must be 2 or 3"
   ]
  },
  {
   "cell_type": "code",
   "execution_count": 93,
   "metadata": {},
   "outputs": [
    {
     "name": "stdout",
     "output_type": "stream",
     "text": [
      "[-3  6 -3]\n"
     ]
    }
   ],
   "source": [
    "# cross product of two vectors\n",
    "# dimension must be 2 or 3\n",
    "\n",
    "v1 = np.array([1, 2, 3])\n",
    "v2 = np.array([4, 5, 6])\n",
    "\n",
    "p = np.cross(v1, v2)\n",
    "print(p)"
   ]
  },
  {
   "cell_type": "code",
   "execution_count": null,
   "metadata": {
    "collapsed": true
   },
   "outputs": [],
   "source": []
  },
  {
   "cell_type": "markdown",
   "metadata": {},
   "source": [
    "## Matrices"
   ]
  },
  {
   "cell_type": "code",
   "execution_count": 126,
   "metadata": {},
   "outputs": [
    {
     "name": "stdout",
     "output_type": "stream",
     "text": [
      "[[21 62 33 93]\n",
      " [44 95 66 13]\n",
      " [77 38 79 33]]\n",
      "(3, 4)\n",
      "2\n"
     ]
    }
   ],
   "source": [
    "A = np.array([ [21, 62, 33, 93], \n",
    "               [44, 95, 66, 13],\n",
    "               [77, 38, 79, 33]])\n",
    "print(A)\n",
    "print(A.shape)\n",
    "print(A.ndim)"
   ]
  },
  {
   "cell_type": "code",
   "execution_count": 127,
   "metadata": {},
   "outputs": [
    {
     "name": "stdout",
     "output_type": "stream",
     "text": [
      "[[21 44 77]\n",
      " [62 95 38]\n",
      " [33 66 79]\n",
      " [93 13 33]]\n",
      "(4, 3)\n"
     ]
    }
   ],
   "source": [
    "# transpose of the matrix; the original array remains unchanged\n",
    "# order of the matrix is reversed.\n",
    "T = A.transpose()\n",
    "print(T)\n",
    "print(T.shape)"
   ]
  },
  {
   "cell_type": "markdown",
   "metadata": {},
   "source": [
    "### Addition of Matrices"
   ]
  },
  {
   "cell_type": "code",
   "execution_count": 129,
   "metadata": {},
   "outputs": [
    {
     "name": "stdout",
     "output_type": "stream",
     "text": [
      "[[ 6  8 10]\n",
      " [10 12 14]]\n"
     ]
    }
   ],
   "source": [
    "# Addition of matrices\n",
    "\n",
    "A = np.array([ [1, 2, 3], \n",
    "               [7, 8, 9]])\n",
    "B = np.array([[5, 6, 7],\n",
    "               [3, 4, 5]])\n",
    "\n",
    "C = A + B\n",
    "print(C)"
   ]
  },
  {
   "cell_type": "markdown",
   "metadata": {},
   "source": [
    "### Subtraction of Matrices"
   ]
  },
  {
   "cell_type": "code",
   "execution_count": 132,
   "metadata": {},
   "outputs": [
    {
     "name": "stdout",
     "output_type": "stream",
     "text": [
      "[[-4 -4 -4]\n",
      " [ 4  4  4]]\n"
     ]
    }
   ],
   "source": [
    "# subtraction of matrices\n",
    "\n",
    "A = np.array([ [1, 2, 3], \n",
    "               [7, 8, 9]])\n",
    "B = np.array([[5, 6, 7],\n",
    "               [3, 4, 5]])\n",
    "C = A - B\n",
    "print(C)"
   ]
  },
  {
   "cell_type": "markdown",
   "metadata": {},
   "source": [
    "### Scalar Matrix Multiplication"
   ]
  },
  {
   "cell_type": "code",
   "execution_count": 133,
   "metadata": {},
   "outputs": [
    {
     "name": "stdout",
     "output_type": "stream",
     "text": [
      "[[ 500 1000]\n",
      " [1500 2000]]\n"
     ]
    }
   ],
   "source": [
    "# scalar matrix multiplication\n",
    "\n",
    "A = np.array([ [100, 200], \n",
    "               [300, 400]])\n",
    "C = 5 * A\n",
    "print(C)"
   ]
  },
  {
   "cell_type": "markdown",
   "metadata": {},
   "source": [
    "### Matix Multiplication"
   ]
  },
  {
   "cell_type": "code",
   "execution_count": 137,
   "metadata": {},
   "outputs": [
    {
     "name": "stdout",
     "output_type": "stream",
     "text": [
      "[[ 28  31]\n",
      " [100 112]]\n"
     ]
    }
   ],
   "source": [
    "# matrix multiplication\n",
    "\n",
    "A = np.array([[0, 1, 2], \n",
    "             [3, 4, 5]])\n",
    "B = np.array([[6, 7], \n",
    "             [8, 9],\n",
    "             [10, 11]])\n",
    "# C = np.dot(A, B)\n",
    "C = A.dot(B)\n",
    "print(C)"
   ]
  },
  {
   "cell_type": "code",
   "execution_count": 138,
   "metadata": {},
   "outputs": [
    {
     "name": "stdout",
     "output_type": "stream",
     "text": [
      "[[ 96  68  69  69]\n",
      " [ 24  56  18  52]\n",
      " [ 58  95  71  92]\n",
      " [ 90 107  81 142]]\n"
     ]
    }
   ],
   "source": [
    "# another example\n",
    "\n",
    "A = np.array([[5, 2, 6, 1],\n",
    "             [0, 6, 2, 0],\n",
    "             [3, 8, 1, 4],\n",
    "             [1, 8, 5, 6]])\n",
    "\n",
    "B = np.array([[7, 5, 8, 0],\n",
    "             [1, 8, 2, 6],\n",
    "             [9, 4, 3, 8],\n",
    "             [5, 3, 7, 9]])\n",
    "\n",
    "C = A.dot(B)\n",
    "print(C)"
   ]
  },
  {
   "cell_type": "code",
   "execution_count": 139,
   "metadata": {},
   "outputs": [
    {
     "name": "stdout",
     "output_type": "stream",
     "text": [
      "[[-17 -11 -21]\n",
      " [  6  24  31]\n",
      " [-17  37  53]\n",
      " [ 10  52  87]]\n"
     ]
    }
   ],
   "source": [
    "# one more example\n",
    "\n",
    "# another example\n",
    "\n",
    "A = np.array([[-3, -2, -1],\n",
    "             [2, 3, 0],\n",
    "             [1, 4, 5],\n",
    "             [6, 7, 8]])\n",
    "\n",
    "B = np.array([[9, -3, -1],\n",
    "             [-4, 10, 11],\n",
    "             [-2, 0, 2]])\n",
    "\n",
    "C = A.dot(B)\n",
    "print(C)"
   ]
  },
  {
   "cell_type": "markdown",
   "metadata": {},
   "source": [
    "### Rank of a matrix\n",
    "\n",
    "The rank of a matrix is defined as (a) the maximum number of linearly independent column vectors in the matrix or (b) the maximum number of linearly independent row vectors in the matrix. Both definitions are equivalent.\n",
    "\n",
    "For an r x c matrix,\n",
    "\n",
    "1. If r is less than c, then the maximum rank of the matrix is r.\n",
    "2. If r is greater than c, then the maximum rank of the matrix is c.\n",
    "\n",
    "The maximum number of linearly independent vectors in a matrix is equal to the number of non-zero rows in its row echelon matrix. Therefore, to find the rank of a matrix, we simply transform the matrix to its row echelon form and count the number of non-zero rows."
   ]
  },
  {
   "cell_type": "code",
   "execution_count": 144,
   "metadata": {},
   "outputs": [
    {
     "data": {
      "text/plain": [
       "2"
      ]
     },
     "execution_count": 144,
     "metadata": {},
     "output_type": "execute_result"
    }
   ],
   "source": [
    "from numpy.linalg import matrix_rank\n",
    "A = np.array([[1, 2, 3],\n",
    "             [2, 3, 5],\n",
    "             [3, 4, 7],\n",
    "             [4, 5, 9]])\n",
    "matrix_rank(A)"
   ]
  },
  {
   "cell_type": "code",
   "execution_count": 155,
   "metadata": {
    "collapsed": true
   },
   "outputs": [],
   "source": [
    "# rank of a matrix implementation using SVD\n",
    "def rank(M, eps=1e-12):\n",
    "    u, s, vh = np.linalg.svd(A)\n",
    "    return len([x for x in s if abs(x) > eps])"
   ]
  },
  {
   "cell_type": "code",
   "execution_count": 156,
   "metadata": {},
   "outputs": [
    {
     "data": {
      "text/plain": [
       "2"
      ]
     },
     "execution_count": 156,
     "metadata": {},
     "output_type": "execute_result"
    }
   ],
   "source": [
    "rank(A)"
   ]
  },
  {
   "cell_type": "code",
   "execution_count": 159,
   "metadata": {},
   "outputs": [
    {
     "data": {
      "text/plain": [
       "3"
      ]
     },
     "execution_count": 159,
     "metadata": {},
     "output_type": "execute_result"
    }
   ],
   "source": [
    "A = np.array([[1, 3, 7],\n",
    "             [2, 8, 3],\n",
    "             [7, 8, 1]])\n",
    "matrix_rank(A)"
   ]
  },
  {
   "cell_type": "markdown",
   "metadata": {
    "collapsed": true
   },
   "source": [
    "### Inverse of a Matrix"
   ]
  },
  {
   "cell_type": "code",
   "execution_count": 5,
   "metadata": {},
   "outputs": [
    {
     "name": "stdout",
     "output_type": "stream",
     "text": [
      "[[ 0.05263158  0.15789474]\n",
      " [ 0.31578947 -0.05263158]]\n"
     ]
    }
   ],
   "source": [
    "A = np.array([[1, 3],\n",
    "             [6, -1]])\n",
    "\n",
    "inverse = np.linalg.inv(A)\n",
    "print(inverse)"
   ]
  },
  {
   "cell_type": "code",
   "execution_count": 16,
   "metadata": {},
   "outputs": [
    {
     "name": "stdout",
     "output_type": "stream",
     "text": [
      "[[ 0.6 -0.7]\n",
      " [-0.2  0.4]]\n"
     ]
    }
   ],
   "source": [
    "A = np.array([[4, 7],\n",
    "             [2, 6]])\n",
    "\n",
    "inverse = np.linalg.inv(A)\n",
    "print(inverse)"
   ]
  },
  {
   "cell_type": "code",
   "execution_count": 17,
   "metadata": {},
   "outputs": [
    {
     "name": "stdout",
     "output_type": "stream",
     "text": [
      "[[  1.00000000e+00   0.00000000e+00]\n",
      " [ -2.22044605e-16   1.00000000e+00]]\n"
     ]
    }
   ],
   "source": [
    "print(np.dot(A, inverse))"
   ]
  },
  {
   "cell_type": "code",
   "execution_count": 25,
   "metadata": {},
   "outputs": [
    {
     "name": "stdout",
     "output_type": "stream",
     "text": [
      "[[ 0.2  0.2  0. ]\n",
      " [-0.2  0.3  1. ]\n",
      " [ 0.2 -0.3 -0. ]]\n"
     ]
    }
   ],
   "source": [
    "# for reference inverse of a 3x3 matrix\n",
    "# https://www.mathsisfun.com/algebra/matrix-inverse-minors-cofactors-adjugate.html\n",
    "A = np.array([[3, 0, 2],\n",
    "             [2, 0, -2],\n",
    "             [0, 1, 1]])\n",
    "inverse = np.linalg.inv(A)\n",
    "print(inverse)"
   ]
  },
  {
   "cell_type": "code",
   "execution_count": 39,
   "metadata": {},
   "outputs": [
    {
     "name": "stdout",
     "output_type": "stream",
     "text": [
      "[[ 0.2  0.2  0. ]\n",
      " [-0.2  0.3  1. ]\n",
      " [ 0.2 -0.3 -0. ]]\n"
     ]
    }
   ],
   "source": [
    "A = mat('[3 0 2; 2 0 -2; 0 1 1]')\n",
    "inverse = np.linalg.inv(A)\n",
    "print(inverse)"
   ]
  },
  {
   "cell_type": "markdown",
   "metadata": {},
   "source": [
    "## Matplotlib\n",
    "\n",
    "https://www.python-course.eu/matplotlib.php\n"
   ]
  },
  {
   "cell_type": "markdown",
   "metadata": {},
   "source": [
    "__First Example__\n",
    "* We will pass a list of values to the plot function. Plot takes these as Y values. The indices of the list are automatically taken as the X values."
   ]
  },
  {
   "cell_type": "code",
   "execution_count": 41,
   "metadata": {
    "collapsed": true
   },
   "outputs": [],
   "source": [
    "import matplotlib.pyplot as plt\n",
    "%matplotlib inline"
   ]
  },
  {
   "cell_type": "code",
   "execution_count": 42,
   "metadata": {},
   "outputs": [
    {
     "data": {
      "image/png": "[encoded data removed]",
      "text/plain": [
       "<matplotlib.figure.Figure at 0x250b04c3f98>"
      ]
     },
     "metadata": {},
     "output_type": "display_data"
    }
   ],
   "source": [
    "plt.plot([-1, -4.5, 16, 23])\n",
    "plt.show()"
   ]
  },
  {
   "cell_type": "markdown",
   "metadata": {},
   "source": [
    "In above plot, What we see is a continuous graph, even though we provided discrete data for the Y values. By adding a format string to the function call of plot, we can create a graph with discrete values, in our case blue circle markers. The format string defines the way how the discrete points have to be rendered."
   ]
  },
  {
   "cell_type": "code",
   "execution_count": 44,
   "metadata": {},
   "outputs": [
    {
     "data": {
      "image/png": "[encoded data removed]",
      "text/plain": [
       "<matplotlib.figure.Figure at 0x250b06ab9b0>"
      ]
     },
     "metadata": {},
     "output_type": "display_data"
    }
   ],
   "source": [
    "# same values as above, but we are plotting as discrete values\n",
    "plt.plot([-1, -4.5, 16, 23], \"ob\")\n",
    "plt.show()"
   ]
  },
  {
   "cell_type": "code",
   "execution_count": 45,
   "metadata": {},
   "outputs": [
    {
     "name": "stdout",
     "output_type": "stream",
     "text": [
      "[0, 3, 6, 9, 12, 15, 18, 21]\n"
     ]
    },
    {
     "data": {
      "image/png": "[encoded data removed]",
      "text/plain": [
       "<matplotlib.figure.Figure at 0x250b06fff28>"
      ]
     },
     "metadata": {},
     "output_type": "display_data"
    }
   ],
   "source": [
    "# our X values:\n",
    "days = list(range(0, 22, 3))\n",
    "print(days)\n",
    "# our Y values:\n",
    "celsius_values = [25.6, 24.1, 26.7, 28.3, 27.5, 30.5, 32.8, 33.1]\n",
    "plt.plot(days, celsius_values)\n",
    "plt.show()"
   ]
  },
  {
   "cell_type": "code",
   "execution_count": 47,
   "metadata": {},
   "outputs": [
    {
     "data": {
      "image/png": "[encoded data removed]",
      "text/plain": [
       "<matplotlib.figure.Figure at 0x250b058c860>"
      ]
     },
     "metadata": {},
     "output_type": "display_data"
    }
   ],
   "source": [
    "# plotting the above with discrete values\n",
    "plt.plot(days, celsius_values, 'bo')\n",
    "plt.show()"
   ]
  },
  {
   "cell_type": "markdown",
   "metadata": {},
   "source": [
    "### Labels on Axes"
   ]
  },
  {
   "cell_type": "code",
   "execution_count": 48,
   "metadata": {},
   "outputs": [
    {
     "data": {
      "image/png": "[encoded data removed]",
      "text/plain": [
       "<matplotlib.figure.Figure at 0x250b07b8ac8>"
      ]
     },
     "metadata": {},
     "output_type": "display_data"
    }
   ],
   "source": [
    "days = list(range(1,9))\n",
    "celsius_values = [25.6, 24.1, 26.7, 28.3, 27.5, 30.5, 32.8, 33.1]\n",
    "plt.plot(days, celsius_values)\n",
    "plt.xlabel('Day')\n",
    "plt.ylabel('Degrees Celsius')\n",
    "plt.show()"
   ]
  },
  {
   "cell_type": "markdown",
   "metadata": {},
   "source": [
    "We can specify an arbitrary number of x, y, fmt groups in a plot function. In the following example, we use two different lists of y values:"
   ]
  },
  {
   "cell_type": "code",
   "execution_count": 52,
   "metadata": {},
   "outputs": [
    {
     "data": {
      "image/png": "[encoded data removed]",
      "text/plain": [
       "<matplotlib.figure.Figure at 0x250b0828278>"
      ]
     },
     "metadata": {},
     "output_type": "display_data"
    }
   ],
   "source": [
    "# for same day, we are plotting both min and max celsius.\n",
    "days = list(range(1,9))\n",
    "celsius_min = [19.6, 24.1, 26.7, 28.3, 27.5, 30.5, 32.8, 33.1]\n",
    "celsius_max = [24.8, 28.9, 31.3, 33.0, 34.9, 35.6, 38.4, 39.2]\n",
    "plt.xlabel('Day')\n",
    "plt.ylabel('Degrees Celsius')\n",
    "plt.plot(days, celsius_min, # continuous graph/line\n",
    "         days, celsius_min, \"oy\", # show discrete points\n",
    "         days, celsius_max,\n",
    "         days, celsius_max, \"or\"\n",
    "        )\n",
    "plt.show()"
   ]
  },
  {
   "cell_type": "markdown",
   "metadata": {},
   "source": [
    "#### Checking and Defining the Range of Axes\n",
    "* We can also check and define the range of the axes with the function axis. If you call it without arguments it returns the current axis limits:"
   ]
  },
  {
   "cell_type": "code",
   "execution_count": 53,
   "metadata": {},
   "outputs": [
    {
     "name": "stdout",
     "output_type": "stream",
     "text": [
      "The current limits for the axes are:\n",
      "(0.64999999999999991, 8.3499999999999996, 18.620000000000001, 40.18)\n",
      "We set the axes to the following values:\n",
      "0 10 14 45\n"
     ]
    },
    {
     "data": {
      "image/png": "[encoded data removed]",
      "text/plain": [
       "<matplotlib.figure.Figure at 0x250b0758dd8>"
      ]
     },
     "metadata": {},
     "output_type": "display_data"
    }
   ],
   "source": [
    "days = list(range(1,9))\n",
    "celsius_min = [19.6, 24.1, 26.7, 28.3, 27.5, 30.5, 32.8, 33.1]\n",
    "celsius_max = [24.8, 28.9, 31.3, 33.0, 34.9, 35.6, 38.4, 39.2]\n",
    "plt.xlabel('Day')\n",
    "plt.ylabel('Degrees Celsius')\n",
    "plt.plot(days, celsius_min,\n",
    "         days, celsius_min, \"oy\",\n",
    "         days, celsius_max, \n",
    "         days, celsius_max, \"or\")\n",
    "print(\"The current limits for the axes are:\")        \n",
    "print(plt.axis())\n",
    "print(\"We set the axes to the following values:\")\n",
    "xmin, xmax, ymin, ymax = 0, 10, 14, 45\n",
    "print(xmin, xmax, ymin, ymax)\n",
    "plt.axis([xmin, xmax, ymin, ymax])\n",
    "plt.show()"
   ]
  },
  {
   "cell_type": "code",
   "execution_count": 72,
   "metadata": {},
   "outputs": [
    {
     "data": {
      "image/png": "[encoded data removed]",
      "text/plain": [
       "<matplotlib.figure.Figure at 0x250b06eb438>"
      ]
     },
     "metadata": {},
     "output_type": "display_data"
    }
   ],
   "source": [
    "days = list(range(1,9))\n",
    "celsius_min = [19.6, 24.1, 26.7, 28.3, 27.5, 30.5, 32.8, 33.1]\n",
    "celsius_max = [24.8, 28.9, 31.3, 33.0, 34.9, 35.6, 38.4, 39.2]\n",
    "plt.xlabel('Day')\n",
    "plt.ylabel('Degrees Celsius')\n",
    "plt.plot(days, celsius_min,\n",
    "         days, celsius_min, \"oy\",\n",
    "         days, celsius_max, \n",
    "         days, celsius_max, \"or\")\n",
    "plt.axis([0, 10, 18, 41])\n",
    "plt.show()"
   ]
  },
  {
   "cell_type": "code",
   "execution_count": 73,
   "metadata": {},
   "outputs": [
    {
     "data": {
      "image/png": "[encoded data removed]",
      "text/plain": [
       "<matplotlib.figure.Figure at 0x250b06eba20>"
      ]
     },
     "metadata": {},
     "output_type": "display_data"
    }
   ],
   "source": [
    "x = np.linspace(0, 25, 1000)\n",
    "y1 = np.sin(x)\n",
    "y2 = np.cos(x)\n",
    "plt.plot(x, y1, '-b', label='sine')\n",
    "plt.plot(x, y2, '-r', label='cosine')\n",
    "plt.legend(loc='upper left')\n",
    "plt.ylim(-1.5, 2.0)\n",
    "plt.show()"
   ]
  },
  {
   "cell_type": "markdown",
   "metadata": {},
   "source": [
    "#### \"linspace\" to Define X Values\n",
    "* We will use the Numpy function linspace in the following example. linspace can be used to create evenly spaced numbers over a specified interval."
   ]
  },
  {
   "cell_type": "code",
   "execution_count": 55,
   "metadata": {},
   "outputs": [
    {
     "data": {
      "image/png": "[encoded data removed]",
      "text/plain": [
       "<matplotlib.figure.Figure at 0x250b0880cc0>"
      ]
     },
     "metadata": {},
     "output_type": "display_data"
    }
   ],
   "source": [
    "# sin function\n",
    "X = np.linspace(0, 2 * np.pi, 50, endpoint=True)\n",
    "F = np.sin(X)\n",
    "plt.plot(X,F)\n",
    "startx, endx = -0.1, 2*np.pi + 0.1\n",
    "starty, endy = -1.1, 1.1\n",
    "plt.axis([startx, endx, starty, endy])\n",
    "plt.show()"
   ]
  },
  {
   "cell_type": "code",
   "execution_count": 56,
   "metadata": {},
   "outputs": [
    {
     "data": {
      "image/png": "[encoded data removed]",
      "text/plain": [
       "<matplotlib.figure.Figure at 0x250b08dd9b0>"
      ]
     },
     "metadata": {},
     "output_type": "display_data"
    }
   ],
   "source": [
    "X = np.linspace(-2 * np.pi, 2 * np.pi, 50, endpoint=True)\n",
    "F1 = 3 * np.sin(X)\n",
    "F2 = np.sin(2*X)\n",
    "F3 = 0.3 * np.sin(X)\n",
    "startx, endx = -2 * np.pi - 0.1, 2*np.pi + 0.1\n",
    "starty, endy = -3.1, 3.1\n",
    "plt.axis([startx, endx, starty, endy])\n",
    "plt.plot(X,F1)\n",
    "plt.plot(X,F2)\n",
    "plt.plot(X,F3)\n",
    "plt.show()"
   ]
  },
  {
   "cell_type": "markdown",
   "metadata": {},
   "source": [
    "The next example isn't anything new. We will just add two more plots with discrete points:"
   ]
  },
  {
   "cell_type": "code",
   "execution_count": 74,
   "metadata": {},
   "outputs": [
    {
     "data": {
      "image/png": "[encoded data removed]",
      "text/plain": [
       "<matplotlib.figure.Figure at 0x250b1a36f98>"
      ]
     },
     "metadata": {},
     "output_type": "display_data"
    }
   ],
   "source": [
    "X = np.linspace(-2 * np.pi, 2 * np.pi, 50, endpoint=True)\n",
    "F1 = 3 * np.sin(X)\n",
    "F2 = np.sin(2*X)\n",
    "F3 = 0.3 * np.sin(X)\n",
    "startx, endx = -2 * np.pi - 0.1, 2*np.pi + 0.1\n",
    "starty, endy = -3.1, 3.1\n",
    "plt.axis([startx, endx, starty, endy])\n",
    "plt.plot(X,F1)\n",
    "plt.plot(X,F2)\n",
    "plt.plot(X,F3)\n",
    "plt.plot(X, F1, 'ro')\n",
    "plt.plot(X, F2, 'bx')\n",
    "plt.show()"
   ]
  },
  {
   "cell_type": "markdown",
   "metadata": {},
   "source": [
    "### Changing the line style\n",
    "* The linestyle of a plot can be influenced with the linestyle or ls parameter of the plot function. It can be set to one of the following values: <br>\n",
    "'-', '--', '-.', ':', 'None', ' ', ''\n",
    "\n",
    "* We can use linewidth to set the width of a line as the name implies."
   ]
  },
  {
   "cell_type": "code",
   "execution_count": 75,
   "metadata": {},
   "outputs": [
    {
     "data": {
      "image/png": "[encoded data removed]",
      "text/plain": [
       "<matplotlib.figure.Figure at 0x250b1a0ac50>"
      ]
     },
     "metadata": {},
     "output_type": "display_data"
    }
   ],
   "source": [
    "X = np.linspace(0, 2 * np.pi, 50, endpoint=True)\n",
    "F1 = 3 * np.sin(X)\n",
    "F2 = np.sin(2*X)\n",
    "F3 = 0.3 * np.sin(X)\n",
    "F4 = np.cos(X)\n",
    "plt.plot(X, F1, color=\"blue\", linewidth=2.5, linestyle=\"-\")\n",
    "plt.plot(X, F2, color=\"red\", linewidth=1.5, linestyle=\"--\")\n",
    "plt.plot(X, F3, color=\"green\", linewidth=2, linestyle=\":\")\n",
    "plt.plot(X, F4, color=\"grey\", linewidth=2, linestyle=\"-.\")\n",
    "plt.show()"
   ]
  },
  {
   "cell_type": "code",
   "execution_count": 77,
   "metadata": {},
   "outputs": [
    {
     "data": {
      "text/plain": [
       "<matplotlib.legend.Legend at 0x250b1a69a90>"
      ]
     },
     "execution_count": 77,
     "metadata": {},
     "output_type": "execute_result"
    },
    {
     "data": {
      "image/png": "[encoded data removed]",
      "text/plain": [
       "<matplotlib.figure.Figure at 0x250b09a0400>"
      ]
     },
     "metadata": {},
     "output_type": "display_data"
    }
   ],
   "source": [
    "X = np.linspace(0, 25, 1000)\n",
    "F1 = np.sin(0.5 * X)\n",
    "F2 = 3 * np.cos(0.8*X)\n",
    "plt.plot(X, F1, label=\"$sin(0.5 * x)$\")\n",
    "plt.plot(X, F2, label=\"$3 sin(x)$\")\n",
    "plt.legend(loc='upper right')"
   ]
  },
  {
   "cell_type": "code",
   "execution_count": 79,
   "metadata": {},
   "outputs": [
    {
     "data": {
      "text/plain": [
       "<matplotlib.legend.Legend at 0x250b1a36e10>"
      ]
     },
     "execution_count": 79,
     "metadata": {},
     "output_type": "execute_result"
    },
    {
     "data": {
      "image/png": "[encoded data removed]",
      "text/plain": [
       "<matplotlib.figure.Figure at 0x250b09c75f8>"
      ]
     },
     "metadata": {},
     "output_type": "display_data"
    }
   ],
   "source": [
    "X = np.linspace(0, 25, 1000)\n",
    "F1 = np.sin(0.5 * X)\n",
    "F2 = 3 * np.cos(0.8*X)\n",
    "plt.plot(X, F1, label=\"$sin(0.5 * x)$\")\n",
    "plt.plot(X, F2, label=\"$3 sin(x)$\")\n",
    "plt.legend(loc='best')"
   ]
  },
  {
   "cell_type": "code",
   "execution_count": 81,
   "metadata": {},
   "outputs": [
    {
     "data": {
      "image/png": "[encoded data removed]",
      "text/plain": [
       "<matplotlib.figure.Figure at 0x250b1afbbe0>"
      ]
     },
     "metadata": {},
     "output_type": "display_data"
    }
   ],
   "source": [
    "X = np.linspace(-2 * np.pi, 2 * np.pi, 70, endpoint=True)\n",
    "F1 = np.sin(0.5*X)\n",
    "F2 = -3 * np.cos(0.8*X)\n",
    "plt.xticks( [-6.28, -3.14, 3.14, 6.28],\n",
    "        [r'$-2\\pi$', r'$-\\pi$', r'$+\\pi$', r'$+2\\pi$'])\n",
    "plt.yticks([-3, -1, 0, +1, 3])\n",
    "plt.plot(X, F1, label=\"$sin(0.5x)$\")\n",
    "plt.plot(X, F2, label=\"$-3 cos(0.8x)$\")\n",
    "plt.legend(loc='best')\n",
    "plt.show()"
   ]
  },
  {
   "cell_type": "code",
   "execution_count": 83,
   "metadata": {},
   "outputs": [
    {
     "data": {
      "image/png": "[encoded data removed]",
      "text/plain": [
       "<matplotlib.figure.Figure at 0x250b1bcca58>"
      ]
     },
     "metadata": {},
     "output_type": "display_data"
    }
   ],
   "source": [
    "# Annotation\n",
    "X = np.linspace(-2 * np.pi, 3 * np.pi, 70, endpoint=True)\n",
    "F1 = np.sin(X)\n",
    "F2 = 3 * np.sin(X)\n",
    "ax = plt.gca()\n",
    "plt.xticks( [-6.28, -3.14, 3.14, 6.28],\n",
    "        [r'$-2\\pi$', r'$-\\pi$', r'$+\\pi$', r'$+2\\pi$'])\n",
    "plt.yticks([-3, -1, 0, +1, 3])\n",
    "x = 3 * np.pi / 4\n",
    "plt.scatter([x,],[3 * np.sin(x),], 50, color ='blue')\n",
    "plt.annotate(r'$(3\\sin(\\frac{3\\pi}{4}),\\frac{3}{\\sqrt{2}})$',\n",
    "         xy=(x, 3 * np.sin(x)), \n",
    "         xycoords='data',\n",
    "         xytext=(+20, +20), \n",
    "         textcoords='offset points', \n",
    "         fontsize=16,\n",
    "         arrowprops=dict(facecolor='blue'))\n",
    "plt.plot(X, F1, label=\"$sin(x)$\")\n",
    "plt.plot(X, F2, label=\"$3 sin(x)$\")\n",
    "plt.legend(loc='lower left')\n",
    "plt.show()"
   ]
  },
  {
   "cell_type": "markdown",
   "metadata": {},
   "source": [
    "#### Shading Regions with fill_between()\n",
    "It is possible to shade or colorize regions between two curves. \n",
    "* We are filling the region between the X axis and the graph of sin(2*X) in the following example:"
   ]
  },
  {
   "cell_type": "code",
   "execution_count": 60,
   "metadata": {},
   "outputs": [
    {
     "data": {
      "image/png": "[encoded data removed]",
      "text/plain": [
       "<matplotlib.figure.Figure at 0x250b081a240>"
      ]
     },
     "metadata": {},
     "output_type": "display_data"
    }
   ],
   "source": [
    "n = 256\n",
    "X = np.linspace(-np.pi,np.pi,n,endpoint=True)\n",
    "Y = np.sin(2*X)\n",
    "plt.plot (X, Y, color='blue', alpha=1.00)\n",
    "plt.fill_between(X, 0, Y, color='blue', alpha=.1)\n",
    "plt.show()"
   ]
  },
  {
   "cell_type": "markdown",
   "metadata": {},
   "source": [
    "### Histogram with random numbers\n",
    "https://www.python-course.eu/matplotlib_histograms.php\n",
    "* If we construct a histogram, we start with distribute the range of possible x values into usually equal sized and adjacent intervals or bins."
   ]
  },
  {
   "cell_type": "code",
   "execution_count": 61,
   "metadata": {},
   "outputs": [
    {
     "data": {
      "image/png": "[encoded data removed]",
      "text/plain": [
       "<matplotlib.figure.Figure at 0x250b1a72128>"
      ]
     },
     "metadata": {},
     "output_type": "display_data"
    }
   ],
   "source": [
    "gaussian_numbers = np.random.normal(size=10000)\n",
    "plt.hist(gaussian_numbers)\n",
    "plt.title(\"Gaussian Histogram\")\n",
    "plt.xlabel(\"Value\")\n",
    "plt.ylabel(\"Frequency\")\n",
    "plt.show()"
   ]
  },
  {
   "cell_type": "code",
   "execution_count": 62,
   "metadata": {},
   "outputs": [
    {
     "name": "stdout",
     "output_type": "stream",
     "text": [
      "n:  [    7.    69.   461.  1571.  2917.  2900.  1542.   460.    67.     6.] 10000.0\n",
      "bins:  [ -4.00533755e+00  -3.20366261e+00  -2.40198768e+00  -1.60031274e+00\n",
      "  -7.98637806e-01   3.03712858e-03   8.04712063e-01   1.60638700e+00\n",
      "   2.40806193e+00   3.20973687e+00   4.01141180e+00]\n",
      "0.801674934741\n",
      "0.801674934741\n",
      "0.801674934741\n",
      "0.801674934741\n",
      "0.801674934741\n",
      "0.801674934741\n",
      "0.801674934741\n",
      "0.801674934741\n",
      "0.801674934741\n",
      "0.801674934741\n",
      "patches:  <a list of 10 Patch objects>\n",
      "Rectangle(xy=(-3.20366, 0), width=0.801675, height=69, angle=0)\n"
     ]
    },
    {
     "data": {
      "image/png": "[encoded data removed]",
      "text/plain": [
       "<matplotlib.figure.Figure at 0x250b09c7e80>"
      ]
     },
     "metadata": {},
     "output_type": "display_data"
    }
   ],
   "source": [
    "n, bins, patches = plt.hist(gaussian_numbers)\n",
    "print(\"n: \", n, sum(n))\n",
    "print(\"bins: \", bins)\n",
    "for i in range(len(bins)-1):\n",
    "    print(bins[i+1] -bins[i])\n",
    "print(\"patches: \", patches)\n",
    "print(patches[1])"
   ]
  },
  {
   "cell_type": "markdown",
   "metadata": {},
   "source": [
    "Let's increase the number of bins. 10 bins is not a lot, if you imagine, that we have 10,000 random values. To do so, we set the keyword parameter bins to 100"
   ]
  },
  {
   "cell_type": "code",
   "execution_count": 63,
   "metadata": {},
   "outputs": [
    {
     "data": {
      "image/png": "[encoded data removed]",
      "text/plain": [
       "<matplotlib.figure.Figure at 0x250b1a722e8>"
      ]
     },
     "metadata": {},
     "output_type": "display_data"
    }
   ],
   "source": [
    "plt.hist(gaussian_numbers, bins=100)\n",
    "plt.show()"
   ]
  },
  {
   "cell_type": "markdown",
   "metadata": {},
   "source": [
    "Another important keyword parameter of hist is \"normed\". \"normed\" is optional and the default value is 'False'. If it is set to 'True', the first element of the return tuple will be the counts normalized to form a probability density, i.e., \"n/(len(x)`dbin)\", ie the integral of the histogram will sum to 1."
   ]
  },
  {
   "cell_type": "code",
   "execution_count": 64,
   "metadata": {},
   "outputs": [
    {
     "data": {
      "image/png": "[encoded data removed]",
      "text/plain": [
       "<matplotlib.figure.Figure at 0x250b06dd0b8>"
      ]
     },
     "metadata": {},
     "output_type": "display_data"
    }
   ],
   "source": [
    "plt.hist(gaussian_numbers, bins=100, normed=True)\n",
    "plt.show()"
   ]
  },
  {
   "cell_type": "markdown",
   "metadata": {},
   "source": [
    "If both the parameters 'normed' and 'stacked' are set to 'True', the sum of the histograms is normalized to 1."
   ]
  },
  {
   "cell_type": "code",
   "execution_count": 65,
   "metadata": {},
   "outputs": [
    {
     "data": {
      "image/png": "[encoded data removed]",
      "text/plain": [
       "<matplotlib.figure.Figure at 0x250b08ba3c8>"
      ]
     },
     "metadata": {},
     "output_type": "display_data"
    }
   ],
   "source": [
    "plt.hist(gaussian_numbers, \n",
    "         bins=100, \n",
    "         normed=True, \n",
    "         stacked=True, \n",
    "         edgecolor=\"#6A9662\",\n",
    "         color=\"#DDFFDD\")\n",
    "plt.show()"
   ]
  },
  {
   "cell_type": "markdown",
   "metadata": {},
   "source": [
    "### Bar charts"
   ]
  },
  {
   "cell_type": "code",
   "execution_count": 66,
   "metadata": {},
   "outputs": [
    {
     "data": {
      "image/png": "[encoded data removed]",
      "text/plain": [
       "<matplotlib.figure.Figure at 0x250b088a748>"
      ]
     },
     "metadata": {},
     "output_type": "display_data"
    }
   ],
   "source": [
    "bars = plt.bar([1,2,3,4], [1,4,9,16])\n",
    "bars[0].set_color('green')\n",
    "plt.show()"
   ]
  },
  {
   "cell_type": "code",
   "execution_count": 68,
   "metadata": {},
   "outputs": [
    {
     "data": {
      "image/png": "[encoded data removed]",
      "text/plain": [
       "<matplotlib.figure.Figure at 0x250b1c35a58>"
      ]
     },
     "metadata": {},
     "output_type": "display_data"
    }
   ],
   "source": [
    "f=plt.figure()\n",
    "ax=f.add_subplot(1,1,1)\n",
    "ax.bar([1,2,3,4], [1,4,9,16])\n",
    "children = ax.get_children()\n",
    "children[2].set_color('g')"
   ]
  },
  {
   "cell_type": "code",
   "execution_count": 71,
   "metadata": {},
   "outputs": [
    {
     "data": {
      "image/png": "[encoded data removed]",
      "text/plain": [
       "<matplotlib.figure.Figure at 0x250b08cb2e8>"
      ]
     },
     "metadata": {},
     "output_type": "display_data"
    }
   ],
   "source": [
    "years = ('2010', '2011', '2012', '2013', '2014')\n",
    "visitors = (1241, 50927, 162242, 222093, 296665 / 8 * 12)\n",
    "index = np.arange(len(visitors))\n",
    "bar_width = 1.0\n",
    "plt.bar(index, visitors, bar_width,  color=\"green\")\n",
    "plt.xticks(index + bar_width / 2, years) # labels get centered\n",
    "plt.show()"
   ]
  },
  {
   "cell_type": "markdown",
   "metadata": {},
   "source": [
    "## Eigen Value Decomposition\n",
    "\n",
    "### Eigen Values\n",
    "### Egen Vectors"
   ]
  },
  {
   "cell_type": "code",
   "execution_count": 2,
   "metadata": {
    "collapsed": true
   },
   "outputs": [],
   "source": [
    "from numpy import linalg as LA"
   ]
  },
  {
   "cell_type": "code",
   "execution_count": 5,
   "metadata": {},
   "outputs": [
    {
     "name": "stdout",
     "output_type": "stream",
     "text": [
      "[[ 0.9486833  -0.31622777]\n",
      " [ 0.31622777  0.9486833 ]]\n",
      "[ 8. -2.]\n"
     ]
    }
   ],
   "source": [
    "# Eigen values computation\n",
    "A = np.array([[7, 3],\n",
    "             [3, -1]])\n",
    "w, v = LA.eig(A)\n",
    "print(v)\n",
    "print(w)"
   ]
  },
  {
   "cell_type": "code",
   "execution_count": 6,
   "metadata": {},
   "outputs": [
    {
     "data": {
      "text/plain": [
       "array([-0.31622777,  0.9486833 ])"
      ]
     },
     "execution_count": 6,
     "metadata": {},
     "output_type": "execute_result"
    }
   ],
   "source": [
    "v[:, 1]"
   ]
  },
  {
   "cell_type": "code",
   "execution_count": 7,
   "metadata": {},
   "outputs": [
    {
     "data": {
      "text/plain": [
       "(array([ -3.63434702+0.j        ,  12.30400284+0.j        ,\n",
       "          4.66517209+0.24962506j,   4.66517209-0.24962506j]),\n",
       " array([[-0.50134465+0.j        ,  0.53617014+0.j        ,\n",
       "         -0.86442904+0.j        , -0.86442904-0.j        ],\n",
       "        [-0.16948750+0.j        ,  0.15522585+0.j        ,\n",
       "          0.06720299+0.05860877j,  0.06720299-0.05860877j],\n",
       "        [ 0.81645069+0.j        ,  0.48927209+0.j        ,\n",
       "         -0.05216732-0.03072854j, -0.05216732+0.03072854j],\n",
       "        [-0.23094547+0.j        ,  0.67010398+0.j        ,\n",
       "          0.46803292-0.14862946j,  0.46803292+0.14862946j]]))"
      ]
     },
     "execution_count": 7,
     "metadata": {},
     "output_type": "execute_result"
    }
   ],
   "source": [
    "A = np.array([[5, 2, 6, 1],\n",
    "             [0, 6, 2, 0],\n",
    "             [3, 8, 1, 4],\n",
    "             [1, 8, 5, 6]])\n",
    "w, v = LA.eig(A)\n",
    "w, v"
   ]
  },
  {
   "cell_type": "code",
   "execution_count": null,
   "metadata": {
    "collapsed": true
   },
   "outputs": [],
   "source": []
  }
 ],
 "metadata": {
  "kernelspec": {
   "display_name": "Python 3",
   "language": "python",
   "name": "python3"
  },
  "language_info": {
   "codemirror_mode": {
    "name": "ipython",
    "version": 3
   },
   "file_extension": ".py",
   "mimetype": "text/x-python",
   "name": "python",
   "nbconvert_exporter": "python",
   "pygments_lexer": "ipython3",
   "version": "3.6.3"
  }
 },
 "nbformat": 4,
 "nbformat_minor": 2
}
