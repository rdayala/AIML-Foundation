{
 "cells": [
  {
   "cell_type": "markdown",
   "metadata": {},
   "source": [
    "## What is Machine Learning\n",
    "\n",
    "Machine learning is a subset of AI, where machines can learn from data without explicitly programmed instructions, without rules. <br><br>\n",
    "* In machine learning case, we would have to define the features.\n",
    "Machine learning is an application of artificial intelligence (AI) that provides systems the ability to automatically learn and improve from experience without being explicitly programmed. Machine learning focuses on the development of computer programs that can access data and use it learn for themselves.\n",
    "\n",
    "* At a high level, ML generally means algorithms or models that :\n",
    "\n",
    "        1. data: get a lot of (cleaned) training data, with human-defined features \n",
    "        (e.g. “age”, “height”, “is this email spam?” etc.)\n",
    "        2. training: use the data to “tune” the relative importance of each feature \n",
    "        3. inference: predict something on new data\n",
    "\n",
    "An example of this is predicting spam emails: Google Gmail collects massive amounts of data about what is spam and what isn’t (this is called “labeled data”). The algorithm then identify common features of spam messages vs. non-spam messages. The algorithm then runs on unlabeled data (i.e. new emails) to predict whether they’re spam or not.\n",
    "\n",
    "* Machine learning algorithms have ability to modify itself when exposed to more data; i.e. machine learning is dynamic and does not require human intervention to make certain changes.\n",
    "\n",
    "\"A computer program is said to learn from experience E with respect to some class of tasks T and performance measure P if its performance at tasks in T, as measured by P, improves with experience E.\" --Tom Mitchell <br><br>\n",
    "\n",
    "The __“learning”__ part of machine learning means that ML algorithms attempt to optimize along a certain dimension; i.e. they usually try to __minimize error__ or maximize the likelihood of their predictions being true. \n",
    "* This has three names: __an error function__, __a loss function__, or __an objective function__, because the algorithm has an objective… When someone says they are working with a machine-learning algorithm, you can get to the gist of its value by asking: What’s the objective function?\n",
    "\n",
    "How does one minimize error? Well, one way is to build a framework that multiplies inputs in order to make guesses as to the inputs’ nature. Different outputs/guesses are the product of the inputs and the algorithm. Usually, the initial guesses are quite wrong, and if you are lucky enough to have ground-truth labels pertaining to the input, you can measure how wrong your guesses are by contrasting them with the truth, and then use that error to modify your algorithm. That’s what neural networks do. They keep on measuring the error and modifying their parameters until they can’t achieve any less error.<br>\n",
    "\n",
    "They are, in short, an optimization algorithm. If you tune them right, they minimize their error by guessing and guessing and guessing again. <br><br>\n",
    "\n",
    "Machine learning algorithms are often categorized as being __supervised__ or __unsupervised__. \n",
    "* __Supervised learning__ algorithms require humans to provide both input and desired output, in addition to furnishing feedback about the accuracy of predictions during training. Once training is complete, the algorithm will apply what was learned to new data. \n",
    "* __Unsupervised learning__ algorithms do not need to be trained with desired outcome data. Instead, they use an iterative approach to review data, identify patterns and arrive at conclusions. Unsupervised learning algorithms are used for more complex processing tasks than supervised learning systems.\n",
    "\n",
    "Examples :  Recommendation engines use machine learning to personalize online ad delivery in almost real time. Beyond personalized marketing, other common machine learning use cases include fraud detection, spam filtering, network security threat detection, predictive maintenance and building news feeds.\n",
    "\n",
    "\n",
    "That is, all machine learning counts as AI, but not all AI counts as machine learning."
   ]
  }
 ],
 "metadata": {
  "kernelspec": {
   "display_name": "Python 3",
   "language": "python",
   "name": "python3"
  },
  "language_info": {
   "codemirror_mode": {
    "name": "ipython",
    "version": 3
   },
   "file_extension": ".py",
   "mimetype": "text/x-python",
   "name": "python",
   "nbconvert_exporter": "python",
   "pygments_lexer": "ipython3",
   "version": "3.6.3"
  }
 },
 "nbformat": 4,
 "nbformat_minor": 2
}
